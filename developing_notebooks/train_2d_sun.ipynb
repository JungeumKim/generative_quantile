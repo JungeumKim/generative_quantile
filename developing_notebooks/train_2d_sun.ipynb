{
 "cells": [
  {
   "cell_type": "code",
   "execution_count": 1,
   "id": "faa25c13",
   "metadata": {},
   "outputs": [],
   "source": [
    "%load_ext autoreload\n",
    "%autoreload 2\n",
    "from IPython.core.debugger import set_trace\n",
    "from importlib import reload\n",
    "import matplotlib.pyplot as plt"
   ]
  },
  {
   "cell_type": "code",
   "execution_count": 2,
   "id": "5343abac",
   "metadata": {},
   "outputs": [],
   "source": [
    "import sys\n",
    "sys.path.append(\"/home/kim2712/Desktop/research/conformal_tree/\")\n",
    "sys.path.append(\"/home/kim2712/Desktop/research/generative_quantile/generative_qunatile/brenier/\")\n",
    "sys.path.append(\"/home/kim2712/Desktop/research/generative_quantile/generative_qunatile\")"
   ]
  },
  {
   "cell_type": "code",
   "execution_count": 3,
   "id": "eaf9bfa2",
   "metadata": {},
   "outputs": [
    {
     "data": {
      "text/plain": [
       "<torch.autograd.anomaly_mode.set_detect_anomaly at 0x2ac60bac1100>"
      ]
     },
     "execution_count": 3,
     "metadata": {},
     "output_type": "execute_result"
    }
   ],
   "source": [
    "import warnings\n",
    "warnings.filterwarnings(\"ignore\", category=UserWarning) \n",
    "warnings.filterwarnings(\"ignore\", category=RuntimeWarning)\n",
    "\n",
    "import torch\n",
    "import torch.nn as nn\n",
    "import torch.nn.functional as F\n",
    "import torch.optim as optim\n",
    "from torch.utils import data\n",
    "import argparse\n",
    "import numpy as np\n",
    "import scipy\n",
    "from scipy.stats import norm\n",
    "#our libs\n",
    "import matplotlib.pyplot as plt\n",
    "import seaborn as sns\n",
    "import utils\n",
    "from utils import truncated_normal\n",
    "from gen_data import *\n",
    "from torchvision import datasets, transforms, utils\n",
    "from models import ConditionalConvexQuantile\n",
    "from models import dual\n",
    "DEVICE =\"cpu\"# torch.device('cuda' if torch.cuda.is_available() else 'cpu')\n",
    "torch.autograd.set_detect_anomaly(True)"
   ]
  },
  {
   "cell_type": "code",
   "execution_count": 4,
   "id": "4a36c099",
   "metadata": {},
   "outputs": [],
   "source": [
    "from _utils.breiner_util import plot2d, histogram, plotaxis\n",
    "from _data.synthetic import Synthetic"
   ]
  },
  {
   "cell_type": "code",
   "execution_count": 10,
   "id": "e5037b40",
   "metadata": {},
   "outputs": [],
   "source": [
    "class args:\n",
    "    device = \"cuda\"\n",
    "    batch_size = 128 \n",
    "    epoch = 50 \n",
    "    optimizer='adam'\n",
    "    lr=0.005\n",
    "    beta1 = 0.9 \n",
    "    beta2=0.999\n",
    "    nesterov=False\n",
    "    iters=1000\n",
    "    mean=0\n",
    "    std=1    \n",
    "    m=10\n",
    "    n=5000\n",
    "    k=100\n",
    "    eps=0"
   ]
  },
  {
   "cell_type": "code",
   "execution_count": 11,
   "id": "f5f07034",
   "metadata": {},
   "outputs": [
    {
     "name": "stdout",
     "output_type": "stream",
     "text": [
      "Input arguments:\n",
      "__module__       __main__\n",
      "device           cuda\n",
      "batch_size       128\n",
      "epoch            50\n",
      "optimizer        adam\n",
      "lr               0.005\n",
      "beta1            0.9\n",
      "beta2            0.999\n",
      "nesterov         False\n",
      "iters            1000\n",
      "mean             0\n",
      "std              1\n",
      "m                10\n",
      "n                5000\n",
      "k                100\n",
      "eps              0\n",
      "__dict__         <attribute '__dict__' of 'args' objects>\n",
      "__weakref__      <attribute '__weakref__' of 'args' objects>\n",
      "__doc__          None\n"
     ]
    }
   ],
   "source": [
    "print(\"Input arguments:\")\n",
    "for key, val in vars(args).items():\n",
    "    print(\"{:16} {}\".format(key, val))"
   ]
  },
  {
   "cell_type": "code",
   "execution_count": 12,
   "id": "901941a9",
   "metadata": {},
   "outputs": [],
   "source": [
    "def unif(size, eps=1E-7, device =\"cuda\"):\n",
    "    return torch.clamp(torch.rand(size).to(device), min=eps, max=1-eps)\n",
    "\n",
    "def train(net, optimizer, loader, args):\n",
    "    k = args.k\n",
    "    #eg = Rings() # EightGaussian()\n",
    "    gauss = torch.distributions.normal.Normal(torch.tensor([0.]).to(args.device), \n",
    "                                              torch.tensor([1.]).to(args.device))\n",
    "    for epoch in range(1, args.epoch+1):\n",
    "        running_loss = 0.0\n",
    "        for idx, (Y, label) in enumerate(loader):\n",
    "            Y, label =Y.to(args.device),label.to(args.device)\n",
    "            u = unif(size=(args.batch_size, 2), device=args.device)\n",
    "            u = gauss.icdf(u)\n",
    "            optimizer.zero_grad()\n",
    "            X,_ = net.to_onehot(label, 3)\n",
    "            alpha, beta= net(u)\n",
    "            loss = dual(U=u, Y_hat=(alpha, beta), Y=Y, X=X, eps=args.eps)\n",
    "            loss.backward()\n",
    "            optimizer.step()\n",
    "            running_loss += loss.item()\n",
    "        if epoch % 10 == 0:\n",
    "            print('%.5f' %\n",
    "                (running_loss))#/(idx+1)))\n",
    "            test(net, args,  loader)\n",
    "            net.train()\n",
    "\n",
    "    \n",
    "def test(net, args, loader):\n",
    "    net.eval()\n",
    "    gauss = torch.distributions.normal.Normal(torch.tensor([0.]).to(args.device), \n",
    "                                              torch.tensor([1.]).to(args.device))\n",
    "    U = unif(size=(5000, 2), device = args.device)\n",
    "    U = gauss.icdf(U)\n",
    "    X = torch.zeros(5000, device=args.device).long()\n",
    "    X[:5000//3] = 1\n",
    "    X[5000//3: 10000//3] = 2\n",
    "    #print(X)\n",
    "    Y_hat,_ = net.grad(U, X)#= net.forward(U, grad=True).sum()\n",
    "    #Y_hat = net.grad(U)\n",
    "    print(\"max and min points generated: \" + str(Y_hat.max()) + \" \" + str(Y_hat.min()))\n",
    "    plot(Y_hat, X ,loader)\n",
    "    \n",
    "def plot(Y_hat,X, loader):\n",
    "    fig, axis = plt.subplots(1,2)\n",
    "    plot2d(Y_hat.detach().cpu(), \n",
    "           labels=X.cpu(), ax=axis[0])\n",
    "    plot2d(loader.dataset.y, \n",
    "           labels=loader.dataset.x, ax=axis[1])\n",
    "    fig.tight_layout()\n",
    "    plt.show()"
   ]
  },
  {
   "cell_type": "code",
   "execution_count": 13,
   "id": "f170d5bb",
   "metadata": {},
   "outputs": [],
   "source": [
    "ds = Synthetic(args, n=args.n)\n",
    "loader = data.DataLoader(ds, batch_size=args.batch_size, shuffle=True, drop_last=True)"
   ]
  },
  {
   "cell_type": "code",
   "execution_count": null,
   "id": "b4edb87f",
   "metadata": {},
   "outputs": [],
   "source": [
    "net = ConditionalConvexQuantile(xdim=3,ydim=2, \n",
    "                                a_hid=512,\n",
    "                                a_layers=3,\n",
    "                                b_hid=512,\n",
    "                                b_layers=3)\n",
    "optimizer = optim.Adam(net.parameters(), lr=args.lr, betas=(args.beta1, args.beta2))\n",
    "net.to(args.device)\n",
    "train(net, optimizer, loader, args)"
   ]
  }
 ],
 "metadata": {
  "kernelspec": {
   "display_name": "Python 3.8 - Learning [learning/conda-2020.11-py38-gpu]",
   "language": "python",
   "name": "sys_learning38"
  },
  "language_info": {
   "codemirror_mode": {
    "name": "ipython",
    "version": 3
   },
   "file_extension": ".py",
   "mimetype": "text/x-python",
   "name": "python",
   "nbconvert_exporter": "python",
   "pygments_lexer": "ipython3",
   "version": "3.8.5"
  }
 },
 "nbformat": 4,
 "nbformat_minor": 5
}
