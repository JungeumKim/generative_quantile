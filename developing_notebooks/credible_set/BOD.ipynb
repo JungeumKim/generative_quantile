{
 "cells": [
  {
   "cell_type": "code",
   "execution_count": 1,
   "id": "8d1debb0",
   "metadata": {},
   "outputs": [],
   "source": [
    "import sys\n",
    "sys.path.insert(0, \"/home/kim2712/Desktop/research/fiducial_J_and_V/FAE\")"
   ]
  },
  {
   "cell_type": "code",
   "execution_count": 2,
   "id": "35cb0bab",
   "metadata": {},
   "outputs": [],
   "source": [
    "from BOD import DataGenerateFunction, model1, get_loader"
   ]
  },
  {
   "cell_type": "code",
   "execution_count": 3,
   "id": "44982e3e",
   "metadata": {},
   "outputs": [],
   "source": [
    "_, train_y, _, train_mu0 = model1(250,#np_random = np_random,\n",
    "                                  torch_=True)#,device = DEVICE)"
   ]
  },
  {
   "cell_type": "code",
   "execution_count": null,
   "id": "b1673abe",
   "metadata": {},
   "outputs": [],
   "source": []
  }
 ],
 "metadata": {
  "kernelspec": {
   "display_name": "Python 3.8 - Learning [learning/conda-2020.11-py38-gpu]",
   "language": "python",
   "name": "sys_learning38"
  },
  "language_info": {
   "codemirror_mode": {
    "name": "ipython",
    "version": 3
   },
   "file_extension": ".py",
   "mimetype": "text/x-python",
   "name": "python",
   "nbconvert_exporter": "python",
   "pygments_lexer": "ipython3",
   "version": "3.8.5"
  }
 },
 "nbformat": 4,
 "nbformat_minor": 5
}
