{
 "cells": [
  {
   "cell_type": "code",
   "execution_count": 19,
   "id": "22ab0c6c",
   "metadata": {},
   "outputs": [
    {
     "name": "stdout",
     "output_type": "stream",
     "text": [
      "The autoreload extension is already loaded. To reload it, use:\n",
      "  %reload_ext autoreload\n"
     ]
    }
   ],
   "source": [
    "#only for ipynb: \n",
    "%load_ext autoreload\n",
    "%autoreload 2\n",
    "from importlib import reload"
   ]
  },
  {
   "cell_type": "code",
   "execution_count": 20,
   "id": "222d8883",
   "metadata": {},
   "outputs": [],
   "source": [
    "PATH = \"/home/kim2712/Desktop/research/rlabc/\"\n",
    "DEVICE=\"cuda\"\n",
    "import sys\n",
    "sys.path.insert(0,\"..\")\n",
    "sys.path.insert(0,PATH)\n",
    "import numpy as np\n",
    "import os\n",
    "\n",
    "from IPython.core.debugger import set_trace\n",
    "\n",
    "from rlabc._data import decoder\n",
    "import numpy as np\n",
    "import torch\n",
    "import matplotlib.pyplot as plt\n",
    "\n",
    "from rlabc.othermethods import abc\n",
    "from rlabc import tree_abc_JK\n",
    "\n",
    "#PATH = \"/Users/seanohagan/projects/rl-abc/\"\n",
    "\n",
    "import torch\n",
    "import numpy as np\n",
    "from torch.utils.data import TensorDataset, DataLoader\n",
    "\n",
    "import os\n",
    "import sys\n",
    "sys.path.insert(0, \"/home/kim2712/Desktop/research/generative_quantile/generative_qunatile\")\n",
    "sys.path.insert(0, \"/home/kim2712/Desktop/research/rlabc\")\n",
    "\n",
    "from _data.gaussian_conjugate import posterior_sampler\n",
    "from brenier.models import ConditionalConvexQuantile#,dual_JK               \n",
    "from _utils.toy_2d_util import test\n",
    "\n",
    "from _data.simulator_gaussian import Conjugate_Model\n",
    "import pickle\n",
    "from rlabc import treeproposal"
   ]
  },
  {
   "cell_type": "code",
   "execution_count": 21,
   "id": "7c1d7a63",
   "metadata": {},
   "outputs": [],
   "source": [
    "n_samples=2\n",
    "from config import parse_args\n",
    "args = parse_args(\"\",None)   \n",
    "HPARAM = {\"nu\":args.nu, \"sigma0_sq\":args.sigma0_sq, \n",
    "          \"mu0\":args.mu0,\"kappa\":args.kappa}\n",
    "\n",
    "import pathlib\n",
    "pathlib.Path(\"./data\").mkdir(parents=True, exist_ok=True)"
   ]
  },
  {
   "cell_type": "code",
   "execution_count": 22,
   "id": "fa526f87",
   "metadata": {},
   "outputs": [
    {
     "name": "stderr",
     "output_type": "stream",
     "text": [
      "  0%|          | 213/100000 [00:00<00:47, 2122.74it/s]"
     ]
    },
    {
     "name": "stdout",
     "output_type": "stream",
     "text": [
      "MPTF: None\n"
     ]
    },
    {
     "name": "stderr",
     "output_type": "stream",
     "text": [
      "  5%|▍         | 4716/100000 [00:01<00:33, 2833.54it/s]/home/kim2712/Desktop/research/rlabc/rlabc/treeproposal.py:204: RuntimeWarning: invalid value encountered in true_divide\n",
      "  return np.sum(np.where(pi != 0, q*p /pi, 0)) / np.sum(np.where(q != 0, pi*p/q, 0))\n"
     ]
    },
    {
     "name": "stdout",
     "output_type": "stream",
     "text": [
      "Batch 1 done, 4724 sims done. Current epsilon = 0.8049029710733843\n",
      "49\n"
     ]
    },
    {
     "name": "stderr",
     "output_type": "stream",
     "text": [
      " 22%|██▏       | 21514/100000 [00:27<02:00, 652.99it/s]/home/kim2712/Desktop/research/rlabc/rlabc/treeproposal.py:204: RuntimeWarning: invalid value encountered in true_divide\n",
      "  return np.sum(np.where(pi != 0, q*p /pi, 0)) / np.sum(np.where(q != 0, pi*p/q, 0))\n",
      " 22%|██▏       | 21580/100000 [00:27<02:37, 496.43it/s]"
     ]
    },
    {
     "name": "stdout",
     "output_type": "stream",
     "text": [
      "Batch 2 done, 21556 sims done. Current epsilon = 0.7244126739660458\n",
      "47\n"
     ]
    },
    {
     "name": "stderr",
     "output_type": "stream",
     "text": [
      " 33%|███▎      | 33162/100000 [00:45<01:44, 641.46it/s]/home/kim2712/Desktop/research/rlabc/rlabc/treeproposal.py:204: RuntimeWarning: invalid value encountered in true_divide\n",
      "  return np.sum(np.where(pi != 0, q*p /pi, 0)) / np.sum(np.where(q != 0, pi*p/q, 0))\n",
      " 33%|███▎      | 33227/100000 [00:45<02:29, 447.51it/s]"
     ]
    },
    {
     "name": "stdout",
     "output_type": "stream",
     "text": [
      "Batch 3 done, 33193 sims done. Current epsilon = 0.6519714065694413\n",
      "49\n"
     ]
    },
    {
     "name": "stderr",
     "output_type": "stream",
     "text": [
      " 51%|█████     | 50619/100000 [01:11<01:13, 675.39it/s]"
     ]
    },
    {
     "name": "stdout",
     "output_type": "stream",
     "text": [
      "Batch 4 done, 50635 sims done. Current epsilon = 0.5867742659124972\n"
     ]
    },
    {
     "name": "stderr",
     "output_type": "stream",
     "text": [
      "/home/kim2712/Desktop/research/rlabc/rlabc/treeproposal.py:204: RuntimeWarning: invalid value encountered in true_divide\n",
      "  return np.sum(np.where(pi != 0, q*p /pi, 0)) / np.sum(np.where(q != 0, pi*p/q, 0))\n",
      " 51%|█████     | 50756/100000 [01:11<01:47, 457.88it/s]"
     ]
    },
    {
     "name": "stdout",
     "output_type": "stream",
     "text": [
      "56\n"
     ]
    },
    {
     "name": "stderr",
     "output_type": "stream",
     "text": [
      " 72%|███████▏  | 71528/100000 [01:42<00:42, 670.40it/s]"
     ]
    },
    {
     "name": "stdout",
     "output_type": "stream",
     "text": [
      "Batch 5 done, 71582 sims done. Current epsilon = 0.5280968393212474\n"
     ]
    },
    {
     "name": "stderr",
     "output_type": "stream",
     "text": [
      "/home/kim2712/Desktop/research/rlabc/rlabc/treeproposal.py:204: RuntimeWarning: invalid value encountered in true_divide\n",
      "  return np.sum(np.where(pi != 0, q*p /pi, 0)) / np.sum(np.where(q != 0, pi*p/q, 0))\n",
      " 72%|███████▏  | 71665/100000 [01:43<01:08, 414.53it/s]"
     ]
    },
    {
     "name": "stdout",
     "output_type": "stream",
     "text": [
      "52\n"
     ]
    },
    {
     "name": "stderr",
     "output_type": "stream",
     "text": [
      " 96%|█████████▌| 96188/100000 [02:19<00:05, 685.82it/s]"
     ]
    },
    {
     "name": "stdout",
     "output_type": "stream",
     "text": [
      "Batch 6 done, 96190 sims done. Current epsilon = 0.47528715538912275\n"
     ]
    },
    {
     "name": "stderr",
     "output_type": "stream",
     "text": [
      "/home/kim2712/Desktop/research/rlabc/rlabc/treeproposal.py:204: RuntimeWarning: invalid value encountered in true_divide\n",
      "  return np.sum(np.where(pi != 0, q*p /pi, 0)) / np.sum(np.where(q != 0, pi*p/q, 0))\n",
      " 96%|█████████▋| 96332/100000 [02:19<00:09, 373.16it/s]"
     ]
    },
    {
     "name": "stdout",
     "output_type": "stream",
     "text": [
      "56\n"
     ]
    },
    {
     "name": "stderr",
     "output_type": "stream",
     "text": [
      "100%|██████████| 100000/100000 [02:25<00:00, 688.13it/s]"
     ]
    },
    {
     "name": "stdout",
     "output_type": "stream",
     "text": [
      "Batch 7 done, 100000 sims done. Current epsilon = 0.42775843985021045\n"
     ]
    },
    {
     "name": "stderr",
     "output_type": "stream",
     "text": [
      "\n"
     ]
    }
   ],
   "source": [
    "#for M in [-4.1, -3.1, -2.1, -1.1, -.1, 0.5, 1.2, 2.5, +3.1]:\n",
    "M=0.1\n",
    "data=np.array([M for _ in range(n_samples)])\n",
    "    \n",
    "model = Conjugate_Model(theta_true=np.array([-4.7956, 2.4520]),\n",
    "                    input_dim=2,\n",
    "                    h_param=HPARAM,\n",
    "                    obs_data=data)\n",
    "\n",
    "rabc = abc.ABCR(10000, \n",
    "                model.support, \n",
    "                model.prior_sim, \n",
    "                model.discrepancy, \n",
    "                model.observed_data)\n",
    "eps_init = np.quantile(rabc.discrepancies, 0.2)\n",
    "eps_sched = eps_init * (0.9 ** np.arange(100))\n",
    "\n",
    "\n",
    "tabc = tree_abc_JK.minibatch_TreeABC(100000, model.support, model.prior_sim, \n",
    "                        model.discrepancy, \n",
    "                        model.observed_data, \n",
    "                        model.prior_density, \n",
    "                        eps_sched, \n",
    "                        verbose=True,\n",
    "                        proposal_update_rule=treeproposal.RULE_OPTIMAL_MAX_A, #treeproposal.RULE_POSTERIOR, \n",
    "                        n_leaves=1000)"
   ]
  },
  {
   "cell_type": "code",
   "execution_count": null,
   "id": "4dc6e5f0",
   "metadata": {},
   "outputs": [],
   "source": [
    "import pickle\n",
    "\n",
    "path = F\"./data/tabc_M{M}.dat\"\n",
    "\n",
    "with open(path, 'wb') as file:\n",
    "    pickle.dump(tabc, file)\n",
    "    "
   ]
  },
  {
   "cell_type": "code",
   "execution_count": 24,
   "id": "72068b74",
   "metadata": {},
   "outputs": [],
   "source": [
    "np.save(F\"./data/tabc_M{M}.npy\",tabc.posteriors[-1])"
   ]
  },
  {
   "cell_type": "code",
   "execution_count": 31,
   "id": "93b8a3f6",
   "metadata": {},
   "outputs": [
    {
     "data": {
      "text/plain": [
       "(array([[-0.22742969,  0.63349879],\n",
       "        [ 0.11778092,  1.43749557],\n",
       "        [-0.42639701,  0.64879357],\n",
       "        [-0.07070769,  1.48005759],\n",
       "        [ 0.60862419,  0.87799127],\n",
       "        [-0.85730714,  1.09045058],\n",
       "        [-0.6597556 ,  1.33866988],\n",
       "        [-0.98063446,  2.29198606],\n",
       "        [ 0.30575105,  0.68505789],\n",
       "        [-0.07070769,  1.48005759],\n",
       "        [-0.07070769,  1.48005759],\n",
       "        [-0.6597556 ,  1.33866988],\n",
       "        [ 0.30575105,  0.68505789],\n",
       "        [ 1.05976397,  1.02243182],\n",
       "        [-0.59400099,  0.48296207],\n",
       "        [ 0.27964084,  0.97317412],\n",
       "        [-0.42639701,  0.64879357],\n",
       "        [ 0.34122164,  0.84432095],\n",
       "        [-0.07070769,  1.48005759],\n",
       "        [ 0.27964084,  0.97317412],\n",
       "        [-0.85730714,  1.09045058],\n",
       "        [ 0.34122164,  0.84432095],\n",
       "        [-0.6597556 ,  1.33866988],\n",
       "        [-0.22742969,  0.63349879],\n",
       "        [-0.42639701,  0.64879357],\n",
       "        [ 0.56477866,  0.64817608],\n",
       "        [ 0.2168036 ,  0.70499605],\n",
       "        [-0.22742969,  0.63349879],\n",
       "        [-0.85730714,  1.09045058],\n",
       "        [ 0.11778092,  1.43749557],\n",
       "        [ 1.05976397,  1.02243182],\n",
       "        [ 1.05976397,  1.02243182],\n",
       "        [-0.85730714,  1.09045058],\n",
       "        [ 0.87772073,  1.24456492],\n",
       "        [ 0.30575105,  0.68505789],\n",
       "        [ 0.2168036 ,  0.70499605],\n",
       "        [-0.42639701,  0.64879357],\n",
       "        [ 0.56477866,  0.64817608],\n",
       "        [ 0.10218208,  1.06997212],\n",
       "        [ 0.10218208,  1.06997212],\n",
       "        [-0.98972271,  1.62739025],\n",
       "        [-0.07070769,  1.48005759],\n",
       "        [ 0.2168036 ,  0.70499605],\n",
       "        [ 0.05600686,  0.47865509],\n",
       "        [ 0.2168036 ,  0.70499605],\n",
       "        [ 0.11778092,  1.43749557],\n",
       "        [ 0.30575105,  0.68505789],\n",
       "        [ 0.27964084,  0.97317412],\n",
       "        [-0.07070769,  1.48005759],\n",
       "        [ 0.30575105,  0.68505789],\n",
       "        [ 0.34122164,  0.84432095],\n",
       "        [-0.22742969,  0.63349879],\n",
       "        [ 0.56477866,  0.64817608],\n",
       "        [ 0.34122164,  0.84432095],\n",
       "        [ 0.2168036 ,  0.70499605],\n",
       "        [-0.6597556 ,  1.33866988],\n",
       "        [ 0.27964084,  0.97317412],\n",
       "        [-0.6597556 ,  1.33866988],\n",
       "        [-0.42639701,  0.64879357],\n",
       "        [-0.85730714,  1.09045058],\n",
       "        [ 0.10218208,  1.06997212],\n",
       "        [ 0.2168036 ,  0.70499605],\n",
       "        [ 0.27964084,  0.97317412],\n",
       "        [-0.07070769,  1.48005759],\n",
       "        [ 0.60862419,  0.87799127],\n",
       "        [ 1.05976397,  1.02243182],\n",
       "        [ 0.87772073,  1.24456492],\n",
       "        [ 0.27964084,  0.97317412],\n",
       "        [ 0.87772073,  1.24456492],\n",
       "        [-0.85730714,  1.09045058],\n",
       "        [ 0.30575105,  0.68505789],\n",
       "        [ 0.27964084,  0.97317412],\n",
       "        [ 0.34122164,  0.84432095],\n",
       "        [ 1.05976397,  1.02243182],\n",
       "        [ 0.27964084,  0.97317412],\n",
       "        [-0.6597556 ,  1.33866988],\n",
       "        [ 0.30575105,  0.68505789],\n",
       "        [ 0.10073332,  0.5349413 ],\n",
       "        [-0.42639701,  0.64879357],\n",
       "        [-0.85730714,  1.09045058],\n",
       "        [ 0.30575105,  0.68505789],\n",
       "        [ 0.34122164,  0.84432095],\n",
       "        [ 0.11778092,  1.43749557],\n",
       "        [-0.42639701,  0.64879357],\n",
       "        [ 1.05976397,  1.02243182],\n",
       "        [ 0.27964084,  0.97317412],\n",
       "        [-0.59400099,  0.48296207],\n",
       "        [ 0.27964084,  0.97317412],\n",
       "        [ 1.05976397,  1.02243182],\n",
       "        [-0.07070769,  1.48005759],\n",
       "        [-0.59400099,  0.48296207],\n",
       "        [ 0.2168036 ,  0.70499605],\n",
       "        [ 0.60862419,  0.87799127],\n",
       "        [ 0.27964084,  0.97317412],\n",
       "        [ 0.87772073,  1.24456492],\n",
       "        [-0.6597556 ,  1.33866988],\n",
       "        [ 0.30575105,  0.68505789],\n",
       "        [ 0.56477866,  0.64817608],\n",
       "        [ 0.2168036 ,  0.70499605],\n",
       "        [ 0.11778092,  1.43749557]]),\n",
       " array([0.02835275, 0.02892459, 0.02980128, 0.0420223 , 0.05155572,\n",
       "        0.05697527, 0.08118148, 0.0816736 , 0.08219361, 0.0835015 ,\n",
       "        0.08830513, 0.10990405, 0.11005861, 0.11148991, 0.11604404,\n",
       "        0.11916022, 0.12466921, 0.12936522, 0.13361663, 0.1359651 ,\n",
       "        0.13896392, 0.14979414, 0.15804704, 0.16091233, 0.16204002,\n",
       "        0.16525324, 0.16588635, 0.17348301, 0.17647396, 0.18051583,\n",
       "        0.18133963, 0.18167205, 0.18630508, 0.18762448, 0.18875481,\n",
       "        0.19592743, 0.20165573, 0.20374278, 0.20432569, 0.20553933,\n",
       "        0.20977789, 0.21114578, 0.21164331, 0.21177083, 0.21322215,\n",
       "        0.21705901, 0.21904609, 0.22071038, 0.22076316, 0.22180435,\n",
       "        0.22408118, 0.22470075, 0.23040823, 0.24090829, 0.2441904 ,\n",
       "        0.24850623, 0.25470022, 0.25601447, 0.2626665 , 0.26302633,\n",
       "        0.26535562, 0.26808048, 0.27061997, 0.27242704, 0.27350503,\n",
       "        0.27990367, 0.28248581, 0.28522666, 0.28678332, 0.28679089,\n",
       "        0.28885719, 0.2899091 , 0.2934438 , 0.30153355, 0.30366352,\n",
       "        0.30580874, 0.31155026, 0.3122844 , 0.31371602, 0.3154715 ,\n",
       "        0.31925411, 0.31960273, 0.32193893, 0.32397676, 0.32607448,\n",
       "        0.32696309, 0.32965887, 0.33059834, 0.33408463, 0.33553859,\n",
       "        0.33553923, 0.33899296, 0.34065509, 0.34230585, 0.34245744,\n",
       "        0.34957459, 0.35283082, 0.35334241, 0.36067065, 0.36096417]))"
      ]
     },
     "execution_count": 31,
     "metadata": {},
     "output_type": "execute_result"
    }
   ],
   "source": [
    "self.massive_sample(batch_size=100, n_proposal=5000)"
   ]
  },
  {
   "cell_type": "code",
   "execution_count": 26,
   "id": "d565e6fb",
   "metadata": {},
   "outputs": [
    {
     "data": {
      "text/html": [
       "<style>#sk-container-id-2 {color: black;}#sk-container-id-2 pre{padding: 0;}#sk-container-id-2 div.sk-toggleable {background-color: white;}#sk-container-id-2 label.sk-toggleable__label {cursor: pointer;display: block;width: 100%;margin-bottom: 0;padding: 0.3em;box-sizing: border-box;text-align: center;}#sk-container-id-2 label.sk-toggleable__label-arrow:before {content: \"▸\";float: left;margin-right: 0.25em;color: #696969;}#sk-container-id-2 label.sk-toggleable__label-arrow:hover:before {color: black;}#sk-container-id-2 div.sk-estimator:hover label.sk-toggleable__label-arrow:before {color: black;}#sk-container-id-2 div.sk-toggleable__content {max-height: 0;max-width: 0;overflow: hidden;text-align: left;background-color: #f0f8ff;}#sk-container-id-2 div.sk-toggleable__content pre {margin: 0.2em;color: black;border-radius: 0.25em;background-color: #f0f8ff;}#sk-container-id-2 input.sk-toggleable__control:checked~div.sk-toggleable__content {max-height: 200px;max-width: 100%;overflow: auto;}#sk-container-id-2 input.sk-toggleable__control:checked~label.sk-toggleable__label-arrow:before {content: \"▾\";}#sk-container-id-2 div.sk-estimator input.sk-toggleable__control:checked~label.sk-toggleable__label {background-color: #d4ebff;}#sk-container-id-2 div.sk-label input.sk-toggleable__control:checked~label.sk-toggleable__label {background-color: #d4ebff;}#sk-container-id-2 input.sk-hidden--visually {border: 0;clip: rect(1px 1px 1px 1px);clip: rect(1px, 1px, 1px, 1px);height: 1px;margin: -1px;overflow: hidden;padding: 0;position: absolute;width: 1px;}#sk-container-id-2 div.sk-estimator {font-family: monospace;background-color: #f0f8ff;border: 1px dotted black;border-radius: 0.25em;box-sizing: border-box;margin-bottom: 0.5em;}#sk-container-id-2 div.sk-estimator:hover {background-color: #d4ebff;}#sk-container-id-2 div.sk-parallel-item::after {content: \"\";width: 100%;border-bottom: 1px solid gray;flex-grow: 1;}#sk-container-id-2 div.sk-label:hover label.sk-toggleable__label {background-color: #d4ebff;}#sk-container-id-2 div.sk-serial::before {content: \"\";position: absolute;border-left: 1px solid gray;box-sizing: border-box;top: 0;bottom: 0;left: 50%;z-index: 0;}#sk-container-id-2 div.sk-serial {display: flex;flex-direction: column;align-items: center;background-color: white;padding-right: 0.2em;padding-left: 0.2em;position: relative;}#sk-container-id-2 div.sk-item {position: relative;z-index: 1;}#sk-container-id-2 div.sk-parallel {display: flex;align-items: stretch;justify-content: center;background-color: white;position: relative;}#sk-container-id-2 div.sk-item::before, #sk-container-id-2 div.sk-parallel-item::before {content: \"\";position: absolute;border-left: 1px solid gray;box-sizing: border-box;top: 0;bottom: 0;left: 50%;z-index: -1;}#sk-container-id-2 div.sk-parallel-item {display: flex;flex-direction: column;z-index: 1;position: relative;background-color: white;}#sk-container-id-2 div.sk-parallel-item:first-child::after {align-self: flex-end;width: 50%;}#sk-container-id-2 div.sk-parallel-item:last-child::after {align-self: flex-start;width: 50%;}#sk-container-id-2 div.sk-parallel-item:only-child::after {width: 0;}#sk-container-id-2 div.sk-dashed-wrapped {border: 1px dashed gray;margin: 0 0.4em 0.5em 0.4em;box-sizing: border-box;padding-bottom: 0.4em;background-color: white;}#sk-container-id-2 div.sk-label label {font-family: monospace;font-weight: bold;display: inline-block;line-height: 1.2em;}#sk-container-id-2 div.sk-label-container {text-align: center;}#sk-container-id-2 div.sk-container {/* jupyter's `normalize.less` sets `[hidden] { display: none; }` but bootstrap.min.css set `[hidden] { display: none !important; }` so we also need the `!important` here to be able to override the default hidden behavior on the sphinx rendered scikit-learn.org. See: https://github.com/scikit-learn/scikit-learn/issues/21755 */display: inline-block !important;position: relative;}#sk-container-id-2 div.sk-text-repr-fallback {display: none;}</style><div id=\"sk-container-id-2\" class=\"sk-top-container\"><div class=\"sk-text-repr-fallback\"><pre>DecisionTreeClassifier(max_depth=6, max_leaf_nodes=1000, min_samples_leaf=10)</pre><b>In a Jupyter environment, please rerun this cell to show the HTML representation or trust the notebook. <br />On GitHub, the HTML representation is unable to render, please try loading this page with nbviewer.org.</b></div><div class=\"sk-container\" hidden><div class=\"sk-item\"><div class=\"sk-estimator sk-toggleable\"><input class=\"sk-toggleable__control sk-hidden--visually\" id=\"sk-estimator-id-2\" type=\"checkbox\" checked><label for=\"sk-estimator-id-2\" class=\"sk-toggleable__label sk-toggleable__label-arrow\">DecisionTreeClassifier</label><div class=\"sk-toggleable__content\"><pre>DecisionTreeClassifier(max_depth=6, max_leaf_nodes=1000, min_samples_leaf=10)</pre></div></div></div></div></div>"
      ],
      "text/plain": [
       "DecisionTreeClassifier(max_depth=6, max_leaf_nodes=1000, min_samples_leaf=10)"
      ]
     },
     "execution_count": 26,
     "metadata": {},
     "output_type": "execute_result"
    }
   ],
   "source": [
    "self= tabc\n",
    "self.tree_model"
   ]
  },
  {
   "cell_type": "code",
   "execution_count": 27,
   "id": "6ba73edc",
   "metadata": {},
   "outputs": [
    {
     "data": {
      "text/plain": [
       "<rlabc.treeproposal.CARTTree at 0x2abb8de1ccd0>"
      ]
     },
     "execution_count": 27,
     "metadata": {},
     "output_type": "execute_result"
    }
   ],
   "source": [
    "self.tree_obj"
   ]
  },
  {
   "cell_type": "code",
   "execution_count": 28,
   "id": "192b6f6f",
   "metadata": {},
   "outputs": [
    {
     "data": {
      "text/plain": [
       "<rlabc.treeproposal.TreeProposal at 0x2aba9352dbe0>"
      ]
     },
     "execution_count": 28,
     "metadata": {},
     "output_type": "execute_result"
    }
   ],
   "source": [
    "self.TP "
   ]
  },
  {
   "cell_type": "code",
   "execution_count": null,
   "id": "37f930c9",
   "metadata": {},
   "outputs": [],
   "source": []
  }
 ],
 "metadata": {
  "kernelspec": {
   "display_name": "Python 3.8 - Learning [learning/conda-2020.11-py38-gpu]",
   "language": "python",
   "name": "sys_learning38"
  },
  "language_info": {
   "codemirror_mode": {
    "name": "ipython",
    "version": 3
   },
   "file_extension": ".py",
   "mimetype": "text/x-python",
   "name": "python",
   "nbconvert_exporter": "python",
   "pygments_lexer": "ipython3",
   "version": "3.8.5"
  }
 },
 "nbformat": 4,
 "nbformat_minor": 5
}
